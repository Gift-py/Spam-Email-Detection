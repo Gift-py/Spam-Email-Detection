{
 "cells": [
  {
   "cell_type": "code",
   "execution_count": 1,
   "metadata": {},
   "outputs": [],
   "source": [
    "#basic algorithm\n",
    "#convert email into feature vector\n",
    "#add hyperparameters to:\n",
    "# - strip email headers\n",
    "# - convert to lowercase\n",
    "# - remove punctuation\n",
    "# - replace url with \"URL\" \n",
    "# - replace numbers with \"NUMBERS\"\n",
    "# - Preform Stemming (trim word endings with library)"
   ]
  },
  {
   "cell_type": "code",
   "execution_count": 2,
   "metadata": {},
   "outputs": [
    {
     "data": {
      "text/plain": [
       "['spam', 'ham']"
      ]
     },
     "execution_count": 2,
     "metadata": {},
     "output_type": "execute_result"
    }
   ],
   "source": [
    "import pandas as pd\n",
    "import numpy as np\n",
    "import os\n",
    "import email\n",
    "import email.policy\n",
    "import nltk \n",
    "from collections import Counter\n",
    "from bs4 import BeautifulSoup\n",
    "from sklearn.base import BaseEstimator, TransformerMixin\n",
    "\n",
    "\n",
    "os.listdir('./hamnspam/')"
   ]
  },
  {
   "attachments": {},
   "cell_type": "markdown",
   "metadata": {},
   "source": [
    "DATA EXPLORATION"
   ]
  },
  {
   "cell_type": "code",
   "execution_count": 13,
   "metadata": {},
   "outputs": [],
   "source": [
    "ham_filenames = [name for name in sorted(os.listdir('./hamnspam/ham')) if len(name) > 20]\n",
    "spam_filenames = [name for name in sorted(os.listdir('./hamnspam/spam')) if len(name) > 20]\n"
   ]
  },
  {
   "cell_type": "code",
   "execution_count": 7,
   "metadata": {},
   "outputs": [
    {
     "name": "stdout",
     "output_type": "stream",
     "text": [
      "Amount of ham files:  2551\n",
      "Amount of spam files:  501\n",
      "ham, spam ratio:  5.091816367265469\n",
      "spam, ham ratio:  0.1963935711485692\n"
     ]
    }
   ],
   "source": [
    "print('Amount of ham files: ', len(ham_filenames))\n",
    "print('Amount of spam files: ', len(spam_filenames))\n",
    "print('ham, spam ratio: ', len(ham_filenames)/len(spam_filenames))\n",
    "print('spam, ham ratio: ', len(spam_filenames)/len(ham_filenames))"
   ]
  },
  {
   "cell_type": "code",
   "execution_count": 14,
   "metadata": {},
   "outputs": [],
   "source": [
    "def load_emails(is_spam, filename):\n",
    "    directory = \"./hamnspam/spam\" if is_spam else \"./hamnspam/ham\"\n",
    "    with open(os.path.join(directory, filename), 'rb') as f:\n",
    "        return email.parser.BytesParser(policy=email.policy.default).parse(f)\n",
    "\n",
    "ham_email = [load_emails(is_spam = False, filename = name) for name in ham_filenames]\n",
    "spam_email = [load_emails(is_spam = True, filename = name) for name in spam_filenames]\n"
   ]
  },
  {
   "attachments": {},
   "cell_type": "markdown",
   "metadata": {},
   "source": [
    "TURNING EMAILS TO TO PLAIN TEXT"
   ]
  },
  {
   "cell_type": "code",
   "execution_count": 79,
   "metadata": {},
   "outputs": [],
   "source": [
    "def get_email_structure(email):\n",
    "    if isinstance(email, str): #if email is a string, it is basically already in plain text so just return the email type\n",
    "        return email \n",
    "    payload = email.get_payload()\n",
    "    if isinstance (payload, list): #if email payload is a list then it means there are multiple emails, so we loop through all the emails in the list and return each email type the \"get email structure\" function\n",
    "        return 'multipart({})'.format(', '.join([get_email_structure(sub_email) for sub_email in payload])) #kinda recursive lol\n",
    "    else: \n",
    "        return email.get_content_type()\n",
    "\n",
    "def structures_counter(emails):\n",
    "    structures = Counter()\n",
    "    for email in emails:\n",
    "        structure = get_email_structure(email)\n",
    "        structures[structure] += 1 #basically just increasing the value count (frequency) by 1\n",
    "    return structures \n"
   ]
  },
  {
   "cell_type": "code",
   "execution_count": 80,
   "metadata": {},
   "outputs": [],
   "source": [
    "ham_structure = structures_counter(ham_email)\n",
    "spam_structure = structures_counter(spam_email)"
   ]
  },
  {
   "cell_type": "code",
   "execution_count": 151,
   "metadata": {},
   "outputs": [],
   "source": [
    "# - Strip email headers\n",
    "# - Convert to lowercase\n",
    "# - Remove punctuation\n",
    "# - Replace url with \"URLS\"\n",
    "# - Replace numbers with \"NUMBER\"\n",
    "# - Perform stemming (trim word endings with library)\n",
    "\n",
    "class EmailToWords(BaseEstimator, TransformerMixin):\n",
    "    def __init__(self, stripHeaders=True, lowercaseConversion=True, punctuationRemoval=True, urlReplace=True, numberReplacement=True, stemming=True):\n",
    "        self.stripHeaders = stripHeaders\n",
    "        self.punctuationRemoval = punctuationRemoval\n",
    "        self.urlReplace = urlReplace\n",
    "        self.numberReplacement = numberReplacement\n",
    "        self.stemming = stemming\n",
    "        self.stemmer = nltk.PorterStemmer()\n",
    "        self.lowercaseConversion = lowercaseConversion\n",
    "    \n",
    "    def html_to_plain(self, email):\n",
    "        try:\n",
    "            soup = BeautifulSoup(email.get_content(), 'html.parser')\n",
    "            return soup.text.replace('\\n\\n', '')\n",
    "        except:\n",
    "            return 'empty'\n",
    "    \n",
    "    def email_to_plain(self, email):\n",
    "        struct = get_email_structure(email)\n",
    "        for part in email.walk():\n",
    "            part_content_type = part.get_content_type()\n",
    "            if part_content_type not in ['text/plain', 'test/html']:\n",
    "                continue \n",
    "            try:\n",
    "                part_content = part.get_content()\n",
    "            except:  #in case of encoding issues\n",
    "                part_content = str(part.get_payload())\n",
    "            if part_content_type == 'text/plain':\n",
    "                return part_content \n",
    "            else:\n",
    "                return self.html_to_plain(part)\n",
    "\n",
    "    def fit(self, X, y=None):\n",
    "        return self\n",
    "    \n",
    "    def transform(self, X, y=None):\n",
    "        X_to_words = []\n",
    "        for email in X:\n",
    "            text = self.email_to_plain(email)\n",
    "            if text is None:\n",
    "                text = 'empty'\n",
    "            if self.lowercaseConversion:\n",
    "                text = text.lower()\n",
    "            \n",
    "            if self.punctuationRemoval:\n",
    "                text = text.replace('.', '')\n",
    "                text = text.replace(',', '')\n",
    "                text = text.replace('!', '')\n",
    "                text = text.replace('?', '')\n",
    "            \n",
    "            word_count = Counter(text.split())\n",
    "            if self.stemming:\n",
    "                stemmed_word_count = Counter()\n",
    "                for word, count in word_count.items():\n",
    "                    stemmed_word = self.stemmer.stem(word)\n",
    "                    stemmed_word_count[stemmed_word] += count\n",
    "                word_counts = stemmed_word_count\n",
    "            X_to_words.append(word_count)\n",
    "        return np.array(X_to_words)"
   ]
  },
  {
   "cell_type": "code",
   "execution_count": 152,
   "metadata": {},
   "outputs": [
    {
     "data": {
      "text/plain": [
       "array([Counter({'the': 15, 'pick': 9, '-lbrace': 6, 'of': 5, '-rbrace': 5, 'i': 4, 'is': 4, '-list': 4, 'this': 3, '+inbox': 3, '-subject': 3, 'ftp': 3, '-sequence': 3, '18:19:04': 3, 'command': 3, 'delta$': 3, 'from': 3, 'error': 2, '18:19:03': 2, '4852-4852': 2, 'mercury': 2, '1': 2, \"that's\": 2, 'comes': 2, 'version': 2, 'using': 2, 'on': 2, 'and': 2, 'one': 2, 'date:': 1, 'wed': 1, '21': 1, 'aug': 1, '2002': 1, '10:54:46': 1, '-0500': 1, 'from:': 1, 'chris': 1, 'garrigues': 1, '<cwg-dated-103037728706fa6d@deepeddycom>': 1, 'message-id:': 1, '<10299452874797tmda@deepeddyvirciocom>': 1, '|': 1, \"can't\": 1, 'reproduce': 1, 'for': 1, 'me': 1, 'it': 1, 'very': 1, 'repeatable': 1, '(like': 1, 'every': 1, 'time': 1, 'without': 1, 'fail)': 1, 'debug': 1, 'log': 1, 'happening': 1, 'pick_it': 1, '{exec': 1, '-rbrace}': 1, '{4852-4852': 1, 'mercury}': 1, 'exec': 1, 'ftoc_pickmsgs': 1, '{{1': 1, 'hit}}': 1, 'marking': 1, 'hits': 1, 'tkerror:': 1, 'syntax': 1, 'in': 1, 'expression': 1, '\"int': 1, 'note': 1, 'if': 1, 'run': 1, 'by': 1, 'hand': 1, 'hit': 1, 'where': 1, '\"1': 1, 'hit\"': 1, '(obviously)': 1, 'nmh': 1, \"i'm\": 1, '-version': 1, '--': 1, 'nmh-104': 1, '[compiled': 1, 'fuchsiacsmuozau': 1, 'at': 1, 'sun': 1, 'mar': 1, '17': 1, '14:55:56': 1, 'ict': 1, '2002]': 1, 'relevant': 1, 'part': 1, 'my': 1, 'mh_profile': 1, 'mhparam': 1, '-seq': 1, 'sel': 1, 'since': 1, 'works': 1, 'sequence': 1, '(actually': 1, 'both': 1, 'them': 1, 'explicit': 1, 'line': 1, 'search': 1, 'popup': 1, 'that': 1, 'mh_profile)': 1, 'do': 1, 'get': 1, 'created': 1, 'kre': 1, 'ps:': 1, 'still': 1, 'code': 1, 'form': 1, 'a': 1, 'day': 1, 'ago': 1, \"haven't\": 1, 'been': 1, 'able': 1, 'to': 1, 'reach': 1, 'cvs': 1, 'repository': 1, 'today': 1, '(local': 1, 'routing': 1, 'issue': 1, 'think)': 1, '_______________________________________________': 1, 'exmh-workers': 1, 'mailing': 1, 'list': 1, 'exmh-workers@redhatcom': 1, 'https://listmanredhatcom/mailman/listinfo/exmh-workers': 1}),\n",
       "       Counter({'the': 5, 'a': 3, 'limestone': 3, 'of': 3, 'and': 3, 'mount': 2, 'from': 2, 'for': 2, 'as': 2, 'granite': 2, 'ft': 2, 'is': 2, 'this': 2, 'yahoo': 2, 'groups': 2, 'to': 2, 'martin': 1, 'posted:': 1, 'tassos': 1, 'papadopoulos': 1, 'greek': 1, 'sculptor': 1, 'behind': 1, 'plan': 1, 'judged': 1, 'that': 1, 'kerdylio': 1, '70': 1, 'miles': 1, 'east': 1, 'salonika': 1, 'not': 1, 'far': 1, 'athos': 1, 'monastic': 1, 'community': 1, 'was': 1, 'ideal': 1, 'patriotic': 1, 'sculpture': 1, 'well': 1, \"alexander's\": 1, 'features': 1, '240': 1, 'high': 1, '170': 1, 'wide': 1, 'museum': 1, 'restored': 1, 'amphitheatre': 1, 'car': 1, 'park': 1, 'admiring': 1, 'crowds': 1, 'are': 1, 'planned': 1, '---------------------': 1, 'so': 1, 'mountain': 1, 'or': 1, 'if': 1, \"it's\": 1, \"it'll\": 1, 'weather': 1, 'pretty': 1, 'fast': 1, '------------------------': 1, 'sponsor': 1, '---------------------~-->': 1, '4': 1, 'dvds': 1, 'free': 1, '+s&p': 1, 'join': 1, 'now': 1, 'http://usclickyahoocom/pt6ybb/nxieaa/mg3haa/7gsolb/tm': 1, '---------------------------------------------------------------------~->': 1, 'unsubscribe': 1, 'group': 1, 'send': 1, 'an': 1, 'email': 1, 'to:': 1, 'forteana-unsubscribe@egroupscom': 1, 'your': 1, 'use': 1, 'subject': 1, 'http://docsyahoocom/info/terms/': 1})],\n",
       "      dtype=object)"
      ]
     },
     "execution_count": 152,
     "metadata": {},
     "output_type": "execute_result"
    }
   ],
   "source": [
    "X_few = ham_email[:2]\n",
    "Xwordcounts = EmailToWords().fit_transform(X_few)\n",
    "Xwordcounts\n"
   ]
  },
  {
   "cell_type": "code",
   "execution_count": 153,
   "metadata": {},
   "outputs": [],
   "source": [
    "from scipy.sparse import csr_matrix\n",
    "\n",
    "class WordCountToVector(BaseEstimator, TransformerMixin):\n",
    "    def __init__(self, vocabulary_size=1000):\n",
    "        self.vocabulary_size = vocabulary_size\n",
    "    \n",
    "    def fit(self, X, y=None):\n",
    "        total_word_count = Counter()\n",
    "        for word_count in X:\n",
    "            for word, count in word_count.items():\n",
    "                total_word_count[word] += min(count, 10)\n",
    "        self.most_common = total_word_count.most_common()[:self.vocabulary_size]\n",
    "        self.vocabulary_ = {word: index + 1 for index, (word, count) in enumerate(self.most_common)}\n",
    "        return self\n",
    "    \n",
    "    def transform(self, X, y=None):\n",
    "        rows = []\n",
    "        cols = []\n",
    "        data = []\n",
    "\n",
    "        for row, word_count in enumerate(X):\n",
    "            for word, count in word_count.items():\n",
    "                rows.append(row)\n",
    "                cols.append(self.vocabulary_.get(word, 0))\n",
    "                data.append(count)\n",
    "        return csr_matrix((data, (rows, cols)), shape=(len(X), self.vocabulary_size + 1))\n"
   ]
  },
  {
   "cell_type": "code",
   "execution_count": 154,
   "metadata": {},
   "outputs": [
    {
     "data": {
      "text/plain": [
       "array([[164,  15,   9,   5,   4,   6,   3,   5,   3,   2,   4],\n",
       "       [ 94,   5,   0,   3,   2,   0,   2,   0,   2,   3,   0]],\n",
       "      dtype=int64)"
      ]
     },
     "execution_count": 154,
     "metadata": {},
     "output_type": "execute_result"
    }
   ],
   "source": [
    "vocab_transformer = WordCountToVector(vocabulary_size=10)\n",
    "X_few_vectors = vocab_transformer.fit_transform(Xwordcounts)\n",
    "X_few_vectors.toarray()"
   ]
  }
 ],
 "metadata": {
  "kernelspec": {
   "display_name": "base",
   "language": "python",
   "name": "python3"
  },
  "language_info": {
   "codemirror_mode": {
    "name": "ipython",
    "version": 3
   },
   "file_extension": ".py",
   "mimetype": "text/x-python",
   "name": "python",
   "nbconvert_exporter": "python",
   "pygments_lexer": "ipython3",
   "version": "3.7.6 (default, Jan  8 2020, 19:59:22) \n[GCC 7.3.0]"
  },
  "orig_nbformat": 4,
  "vscode": {
   "interpreter": {
    "hash": "e4b53b73f77842c109d673a14c5d2f07d384851213ad10cbf54db2905fb9d412"
   }
  }
 },
 "nbformat": 4,
 "nbformat_minor": 2
}
